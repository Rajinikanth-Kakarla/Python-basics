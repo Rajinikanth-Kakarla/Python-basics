{
  "cells": [
    {
      "cell_type": "markdown",
      "id": "0042df9f",
      "metadata": {
        "id": "0042df9f"
      },
      "source": [
        "# Linear Search"
      ]
    },
    {
      "cell_type": "markdown",
      "id": "e993f155",
      "metadata": {
        "id": "e993f155"
      },
      "source": [
        "## What is Linear Search?\n",
        "\n",
        "### A sequential search technique known as \"linear search\" starts at one end of a list and runs through each item in turn until the desired element is located; if not, the search continues until the end of the data set. The simplest search algorithm is this one."
      ]
    },
    {
      "cell_type": "markdown",
      "id": "7e57ec89",
      "metadata": {
        "id": "7e57ec89"
      },
      "source": [
        "## How Linear Search works?\n",
        "\n",
        "![Presentation1.png](data:image/png;base64,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)"
      ]
    },
    {
      "cell_type": "markdown",
      "id": "8d7ebe1b",
      "metadata": {
        "id": "8d7ebe1b"
      },
      "source": [
        "### Element found at index 4"
      ]
    },
    {
      "cell_type": "markdown",
      "id": "95094fe6",
      "metadata": {
        "id": "95094fe6"
      },
      "source": [
        "# Algorithm for Linear Search\n",
        "\n",
        "    LinearSearch(array, key):\n",
        "      for each item in the array:\n",
        "        if item == value:\n",
        "          return its index"
      ]
    },
    {
      "cell_type": "code",
      "execution_count": null,
      "id": "86b09b1b",
      "metadata": {
        "id": "86b09b1b",
        "colab": {
          "base_uri": "https://localhost:8080/"
        },
        "outputId": "b7c2044f-d69a-471e-b920-f39f0a1b4b69"
      },
      "outputs": [
        {
          "output_type": "stream",
          "name": "stdout",
          "text": [
            "Element is present\n"
          ]
        }
      ],
      "source": [
        "def search(arr, N, x):\n",
        " \n",
        "    for i in range(0, N):\n",
        "        if (arr[i] == x):\n",
        "            return i\n",
        "    return -1\n",
        " \n",
        " \n",
        "# Driver Code\n",
        "if __name__ == \"__main__\":\n",
        "    arr = [2, 3, 4, 10, 40]\n",
        "    x = 10\n",
        "    N = len(arr)\n",
        " \n",
        "    # Function call\n",
        "    result = search(arr, N, x)\n",
        "    if(result == -1):\n",
        "        print(\"Element is not present in array\")\n",
        "    else:\n",
        "        print(\"Element is present\")"
      ]
    },
    {
      "cell_type": "code",
      "source": [
        " \n",
        "def linear_search(arr, key, size):\n",
        "   \n",
        "  # If the array is empty we will return -1\n",
        "    if (size == 0):\n",
        "        return -1\n",
        " \n",
        "    elif (arr[size - 1] == key):\n",
        "        # Return the index of found key.\n",
        "        return size - 1\n",
        "    else:\n",
        "        return linear_search(arr, key, size - 1)\n",
        " \n",
        " \n",
        "# Driver's code\n",
        "if __name__ == \"__main__\":\n",
        "    arr = [5, 15, 6, 9, 4]\n",
        "    key = 10\n",
        "    size = len(arr)\n",
        "    ans = linear_search(arr, key, size)  # Calling the Function\n",
        "    if ans != -1:\n",
        "        print(\"The element\", key, \"is found at\",\n",
        "              ans, \"index of the given array.\")\n",
        "    else:\n",
        "        print(\"The element\", key, \"is not found.\")"
      ],
      "metadata": {
        "colab": {
          "base_uri": "https://localhost:8080/"
        },
        "id": "1Ez2O11d7PEz",
        "outputId": "b6cf4d83-9da8-43b2-aaff-63267cdc9840"
      },
      "id": "1Ez2O11d7PEz",
      "execution_count": null,
      "outputs": [
        {
          "output_type": "stream",
          "name": "stdout",
          "text": [
            "The element 10 is not found.\n"
          ]
        }
      ]
    }
  ],
  "metadata": {
    "kernelspec": {
      "display_name": "Python 3 (ipykernel)",
      "language": "python",
      "name": "python3"
    },
    "language_info": {
      "codemirror_mode": {
        "name": "ipython",
        "version": 3
      },
      "file_extension": ".py",
      "mimetype": "text/x-python",
      "name": "python",
      "nbconvert_exporter": "python",
      "pygments_lexer": "ipython3",
      "version": "3.9.13"
    },
    "vscode": {
      "interpreter": {
        "hash": "c261aea317cc0286b3b3261fbba9abdec21eaa57589985bb7a274bf54d6cc0a7"
      }
    },
    "colab": {
      "provenance": []
    }
  },
  "nbformat": 4,
  "nbformat_minor": 5
}